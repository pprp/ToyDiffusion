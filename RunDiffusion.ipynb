{
 "cells": [
  {
   "cell_type": "code",
   "execution_count": 1,
   "metadata": {},
   "outputs": [],
   "source": [
    "import torch\n",
    "import numpy as np\n",
    "from diffusion import q_sample, posterior_q, Denoising, denoise_with_mu\n",
    "from utils import pack_data, unpack_1d_data, scatter_pixels"
   ]
  },
  {
   "cell_type": "code",
   "execution_count": 2,
   "metadata": {},
   "outputs": [],
   "source": [
    "device = torch.device('cuda' if torch.cuda.is_available() else 'cpu')"
   ]
  },
  {
   "cell_type": "markdown",
   "metadata": {},
   "source": [
    "## ATTENTION ##\n",
    "###### Download this image https://www.infomoney.com.br/wp-content/uploads/2019/06/homer-simpson.jpg?resize=900%2C515&quality=50&strip=all and save it in this folder as 'homer.png'\n"
   ]
  },
  {
   "cell_type": "code",
   "execution_count": 44,
   "metadata": {},
   "outputs": [],
   "source": [
    "# x,y = scatter_pixels('./homer.png')\n",
    "import numpy as np \n",
    "x = np.random.random(100)\n",
    "y = x ** 2 + np.random.random(100) * 0.1"
   ]
  },
  {
   "cell_type": "markdown",
   "metadata": {},
   "source": [
    "## Scatter plot of data we will try to train the model to generate from random noise"
   ]
  },
  {
   "cell_type": "code",
   "execution_count": 64,
   "metadata": {},
   "outputs": [
    {
     "data": {
      "image/png": "[encoded data removed]",
      "text/plain": [
       "<Figure size 640x480 with 1 Axes>"
      ]
     },
     "metadata": {},
     "output_type": "display_data"
    }
   ],
   "source": [
    "import seaborn as sns\n",
    "data = (x, y)\n",
    "ax = sns.scatterplot(x=x, y=y)"
   ]
  },
  {
   "cell_type": "code",
   "execution_count": 47,
   "metadata": {},
   "outputs": [],
   "source": [
    "## Store the ax to plot the result later\n",
    "y_ax = ax.get_ylim()\n",
    "x_ax = ax.get_xlim()\n",
    "axes = (x_ax,y_ax)"
   ]
  },
  {
   "cell_type": "code",
   "execution_count": 20,
   "metadata": {},
   "outputs": [],
   "source": [
    "# send data to device\n",
    "one_d_data = pack_data(x,y)\n",
    "x_init = torch.tensor(one_d_data).to(torch.float32).to(device)\n",
    "\n",
    "DATA_SIZE = len(x_init)\n"
   ]
  },
  {
   "cell_type": "markdown",
   "metadata": {},
   "source": [
    "# Diffusion Parameters"
   ]
  },
  {
   "cell_type": "code",
   "execution_count": 65,
   "metadata": {},
   "outputs": [],
   "source": [
    "beta_start = .00004\n",
    "beta_end = .002\n",
    "num_diffusion_timesteps = 100"
   ]
  },
  {
   "cell_type": "code",
   "execution_count": 66,
   "metadata": {},
   "outputs": [],
   "source": [
    "from operator import mul\n",
    "from functools import reduce \n",
    "\n",
    "betas = np.linspace(beta_start ** 0.5, beta_end ** 0.5, num_diffusion_timesteps) ** 2\n",
    "alphas = 1 - betas\n",
    "\n",
    "# send parameters to device\n",
    "betas = torch.tensor(betas).to(torch.float32).to(device)\n",
    "alphas = torch.tensor(alphas).to(torch.float32).to(device)\n",
    "\n",
    "# alpha_bar_t is the product of all alpha_ts from 0 to t\n",
    "list_bar_alphas = [alphas[0]]\n",
    "for t in range(1,num_diffusion_timesteps):\n",
    "    list_bar_alphas.append(reduce(mul,alphas[:t]))\n",
    "    \n",
    "list_bar_alphas = torch.cumprod(alphas, axis=0).to(torch.float32).to(device)"
   ]
  },
  {
   "cell_type": "code",
   "execution_count": null,
   "metadata": {},
   "outputs": [],
   "source": []
  },
  {
   "cell_type": "markdown",
   "metadata": {},
   "source": [
    "## Training Procedure"
   ]
  },
  {
   "cell_type": "code",
   "execution_count": 67,
   "metadata": {},
   "outputs": [],
   "source": [
    "import torch.nn as nn\n",
    "import torch.optim as optim\n",
    "\n",
    "\n",
    "training_steps_per_epoch = 40\n",
    "\n",
    "\n",
    "criterion = nn.MSELoss()\n",
    "denoising_model = Denoising(DATA_SIZE, num_diffusion_timesteps).to(device)\n",
    "# disgusting hack to put embedding layer on 'device' as well, as it is not a pytorch module!\n",
    "denoising_model.emb = denoising_model.emb.to(device)\n",
    "optimizer = optim.AdamW(denoising_model.parameters())"
   ]
  },
  {
   "cell_type": "code",
   "execution_count": null,
   "metadata": {},
   "outputs": [],
   "source": []
  },
  {
   "cell_type": "code",
   "execution_count": 68,
   "metadata": {},
   "outputs": [
    {
     "name": "stderr",
     "output_type": "stream",
     "text": [
      "Epoch: 1 Loss: 0.054119013249874115:  10%|█         | 2/20 [00:40<06:07, 20.40s/it]"
     ]
    }
   ],
   "source": [
    "from tqdm import tqdm\n",
    "\n",
    "pbar = tqdm(range(20))\n",
    "for epoch in pbar:  # loop over the dataset multiple times\n",
    "    \n",
    "    running_loss = 0.0\n",
    "    # sample a bunch of timesteps\n",
    "    Ts = np.random.randint(1,num_diffusion_timesteps, size=training_steps_per_epoch)\n",
    "    for _, t in enumerate(Ts):\n",
    "        # produce corrupted sample\n",
    "        q_t = q_sample(x_init, t, list_bar_alphas, device)\n",
    "                \n",
    "        # calculate the mean and variance of the posterior forward distribution q(x_t-1 | x_t,x_0)\n",
    "        mu_t, cov_t = posterior_q(x_init, q_t, t, alphas, list_bar_alphas, device)\n",
    "        # get just first element from diagonal of covariance since they are all equal\n",
    "        sigma_t = cov_t[0][0]\n",
    "        # zero the parameter gradients\n",
    "        optimizer.zero_grad()\n",
    "  \n",
    "        mu_theta = denoising_model(q_t , t)\n",
    "        loss = criterion(mu_t, mu_theta)\n",
    "        loss.backward()\n",
    "        optimizer.step()\n",
    "        running_loss += loss.detach()\n",
    "    pbar.set_description('Epoch: {} Loss: {}'.format(epoch, running_loss/training_steps_per_epoch))\n",
    "print('Finished Training')"
   ]
  },
  {
   "cell_type": "markdown",
   "metadata": {},
   "source": [
    "### Reserve-Diffuse one Sample of Noise!"
   ]
  },
  {
   "cell_type": "code",
   "execution_count": 62,
   "metadata": {},
   "outputs": [
    {
     "name": "stderr",
     "output_type": "stream",
     "text": [
      "100%|██████████| 100/100 [00:35<00:00,  2.84it/s]\n"
     ]
    }
   ],
   "source": [
    "from tqdm import tqdm \n",
    "data = torch.distributions.MultivariateNormal(loc=torch.zeros(DATA_SIZE),covariance_matrix=torch.eye(DATA_SIZE)).sample().to(device)\n",
    "\n",
    "for t in tqdm(range(0,num_diffusion_timesteps)):\n",
    "    data = denoise_with_mu(denoising_model,data,num_diffusion_timesteps-t-1, alphas, list_bar_alphas, DATA_SIZE, device)"
   ]
  },
  {
   "cell_type": "code",
   "execution_count": 54,
   "metadata": {},
   "outputs": [
    {
     "name": "stdout",
     "output_type": "stream",
     "text": [
      "(array([0.05702874, 0.61416908, 0.08525594, 0.05149226, 0.9808778 ,\n",
      "       0.92464054, 0.56511543, 0.40854984, 0.9074799 , 0.70387498,\n",
      "       0.3035275 , 0.51530015, 0.62247746, 0.94801959, 0.98778704,\n",
      "       0.2651639 , 0.55712145, 0.33917704, 0.81363005, 0.98977775,\n",
      "       0.28116274, 0.56879947, 0.74508644, 0.87164455, 0.4837664 ,\n",
      "       0.18933689, 0.11662094, 0.16953319, 0.41176259, 0.26085136,\n",
      "       0.6017302 , 0.09491126, 0.51613415, 0.23236512, 0.54462559,\n",
      "       0.46149639, 0.68178263, 0.28255028, 0.68111634, 0.74685176,\n",
      "       0.15442172, 0.27062912, 0.89960341, 0.86570599, 0.76621451,\n",
      "       0.74429588, 0.60620277, 0.80169425, 0.38705495, 0.59634475,\n",
      "       0.00894778, 0.99615312, 0.23502938, 0.36184051, 0.75884533,\n",
      "       0.38972491, 0.54621019, 0.86418826, 0.74941535, 0.51639329,\n",
      "       0.95083607, 0.10807391, 0.81207054, 0.7610744 , 0.36065281,\n",
      "       0.60338244, 0.61394196, 0.67027977, 0.13912277, 0.37724431,\n",
      "       0.43890256, 0.8910174 , 0.784969  , 0.46273672, 0.47107473,\n",
      "       0.77854686, 0.69895108, 0.95812411, 0.75233828, 0.62997875,\n",
      "       0.87131944, 0.64481921, 0.91600365, 0.78537879, 0.31209512,\n",
      "       0.76502336, 0.51856455, 0.45338334, 0.78170089, 0.84726224,\n",
      "       0.77289665, 0.79155652, 0.23812499, 0.46537566, 0.40627332,\n",
      "       0.14948488, 0.42454363, 0.55475714, 0.29320089, 0.22081886]), array([0.04371676, 0.40969013, 0.06796648, 0.07487154, 1.06105515,\n",
      "       0.94637748, 0.33311238, 0.1791144 , 0.91077103, 0.56574069,\n",
      "       0.13444669, 0.27958479, 0.47573793, 0.90738036, 1.03333387,\n",
      "       0.16548039, 0.34186621, 0.16048716, 0.73051824, 1.00552596,\n",
      "       0.10463611, 0.40403315, 0.56663397, 0.82894496, 0.31267018,\n",
      "       0.12368196, 0.07549079, 0.10340099, 0.24847845, 0.152216  ,\n",
      "       0.44172512, 0.09834449, 0.30671514, 0.11627701, 0.31095222,\n",
      "       0.2162999 , 0.5504212 , 0.09990254, 0.49233743, 0.61630426,\n",
      "       0.03714979, 0.12471082, 0.86619503, 0.79012589, 0.62434335,\n",
      "       0.60745231, 0.39625029, 0.64795403, 0.17756252, 0.44807227,\n",
      "       0.06260602, 1.03927391, 0.08606397, 0.13514377, 0.59591525,\n",
      "       0.15543773, 0.30218699, 0.82780796, 0.56189651, 0.29334574,\n",
      "       0.90802418, 0.02466718, 0.73411056, 0.66807497, 0.17145114,\n",
      "       0.45153022, 0.47211922, 0.47515992, 0.05279972, 0.21594578,\n",
      "       0.25505857, 0.82773294, 0.66784129, 0.24203062, 0.28235513,\n",
      "       0.7026991 , 0.56667584, 0.92663935, 0.63511563, 0.40861442,\n",
      "       0.80466512, 0.50124162, 0.88340777, 0.64640772, 0.10403098,\n",
      "       0.59129467, 0.29554833, 0.20821083, 0.70841299, 0.76907473,\n",
      "       0.62274874, 0.70374427, 0.1435289 , 0.3093754 , 0.23599964,\n",
      "       0.09446048, 0.24255229, 0.36663532, 0.11117314, 0.09886642]))\n"
     ]
    },
    {
     "ename": "ValueError",
     "evalue": "The truth value of an array with more than one element is ambiguous. Use a.any() or a.all()",
     "output_type": "error",
     "traceback": [
      "\u001b[0;31m---------------------------------------------------------------------------\u001b[0m",
      "\u001b[0;31mValueError\u001b[0m                                Traceback (most recent call last)",
      "\u001b[1;32m/Users/peyton/Workspace/ToyDiffusion/RunDiffusion.ipynb Cell 19\u001b[0m line \u001b[0;36m6\n\u001b[1;32m      <a href='vscode-notebook-cell:/Users/peyton/Workspace/ToyDiffusion/RunDiffusion.ipynb#X24sZmlsZQ%3D%3D?line=2'>3</a>\u001b[0m x_new, y_new \u001b[39m=\u001b[39m unpack_1d_data(data)\n\u001b[1;32m      <a href='vscode-notebook-cell:/Users/peyton/Workspace/ToyDiffusion/RunDiffusion.ipynb#X24sZmlsZQ%3D%3D?line=4'>5</a>\u001b[0m \u001b[39mimport\u001b[39;00m \u001b[39mseaborn\u001b[39;00m \u001b[39mas\u001b[39;00m \u001b[39msns\u001b[39;00m\n\u001b[0;32m----> <a href='vscode-notebook-cell:/Users/peyton/Workspace/ToyDiffusion/RunDiffusion.ipynb#X24sZmlsZQ%3D%3D?line=5'>6</a>\u001b[0m sns\u001b[39m.\u001b[39;49mscatterplot(x\u001b[39m=\u001b[39;49mx_new,y\u001b[39m=\u001b[39;49my_new)\n",
      "File \u001b[0;32m~/miniconda3/lib/python3.11/site-packages/seaborn/relational.py:603\u001b[0m, in \u001b[0;36mscatterplot\u001b[0;34m(data, x, y, hue, size, style, palette, hue_order, hue_norm, sizes, size_order, size_norm, markers, style_order, legend, ax, **kwargs)\u001b[0m\n\u001b[1;32m    594\u001b[0m \u001b[39mdef\u001b[39;00m \u001b[39mscatterplot\u001b[39m(\n\u001b[1;32m    595\u001b[0m     data\u001b[39m=\u001b[39m\u001b[39mNone\u001b[39;00m, \u001b[39m*\u001b[39m,\n\u001b[1;32m    596\u001b[0m     x\u001b[39m=\u001b[39m\u001b[39mNone\u001b[39;00m, y\u001b[39m=\u001b[39m\u001b[39mNone\u001b[39;00m, hue\u001b[39m=\u001b[39m\u001b[39mNone\u001b[39;00m, size\u001b[39m=\u001b[39m\u001b[39mNone\u001b[39;00m, style\u001b[39m=\u001b[39m\u001b[39mNone\u001b[39;00m,\n\u001b[0;32m   (...)\u001b[0m\n\u001b[1;32m    600\u001b[0m     \u001b[39m*\u001b[39m\u001b[39m*\u001b[39mkwargs\n\u001b[1;32m    601\u001b[0m ):\n\u001b[0;32m--> 603\u001b[0m     p \u001b[39m=\u001b[39m _ScatterPlotter(\n\u001b[1;32m    604\u001b[0m         data\u001b[39m=\u001b[39;49mdata,\n\u001b[1;32m    605\u001b[0m         variables\u001b[39m=\u001b[39;49m\u001b[39mdict\u001b[39;49m(x\u001b[39m=\u001b[39;49mx, y\u001b[39m=\u001b[39;49my, hue\u001b[39m=\u001b[39;49mhue, size\u001b[39m=\u001b[39;49msize, style\u001b[39m=\u001b[39;49mstyle),\n\u001b[1;32m    606\u001b[0m         legend\u001b[39m=\u001b[39;49mlegend\n\u001b[1;32m    607\u001b[0m     )\n\u001b[1;32m    609\u001b[0m     p\u001b[39m.\u001b[39mmap_hue(palette\u001b[39m=\u001b[39mpalette, order\u001b[39m=\u001b[39mhue_order, norm\u001b[39m=\u001b[39mhue_norm)\n\u001b[1;32m    610\u001b[0m     p\u001b[39m.\u001b[39mmap_size(sizes\u001b[39m=\u001b[39msizes, order\u001b[39m=\u001b[39msize_order, norm\u001b[39m=\u001b[39msize_norm)\n",
      "File \u001b[0;32m~/miniconda3/lib/python3.11/site-packages/seaborn/relational.py:390\u001b[0m, in \u001b[0;36m_ScatterPlotter.__init__\u001b[0;34m(self, data, variables, legend)\u001b[0m\n\u001b[1;32m    381\u001b[0m \u001b[39mdef\u001b[39;00m \u001b[39m__init__\u001b[39m(\u001b[39mself\u001b[39m, \u001b[39m*\u001b[39m, data\u001b[39m=\u001b[39m\u001b[39mNone\u001b[39;00m, variables\u001b[39m=\u001b[39m{}, legend\u001b[39m=\u001b[39m\u001b[39mNone\u001b[39;00m):\n\u001b[1;32m    382\u001b[0m \n\u001b[1;32m    383\u001b[0m     \u001b[39m# TODO this is messy, we want the mapping to be agnostic about\u001b[39;00m\n\u001b[1;32m    384\u001b[0m     \u001b[39m# the kind of plot to draw, but for the time being we need to set\u001b[39;00m\n\u001b[1;32m    385\u001b[0m     \u001b[39m# this information so the SizeMapping can use it\u001b[39;00m\n\u001b[1;32m    386\u001b[0m     \u001b[39mself\u001b[39m\u001b[39m.\u001b[39m_default_size_range \u001b[39m=\u001b[39m (\n\u001b[1;32m    387\u001b[0m         np\u001b[39m.\u001b[39mr_[\u001b[39m.5\u001b[39m, \u001b[39m2\u001b[39m] \u001b[39m*\u001b[39m np\u001b[39m.\u001b[39msquare(mpl\u001b[39m.\u001b[39mrcParams[\u001b[39m\"\u001b[39m\u001b[39mlines.markersize\u001b[39m\u001b[39m\"\u001b[39m])\n\u001b[1;32m    388\u001b[0m     )\n\u001b[0;32m--> 390\u001b[0m     \u001b[39msuper\u001b[39;49m()\u001b[39m.\u001b[39;49m\u001b[39m__init__\u001b[39;49m(data\u001b[39m=\u001b[39;49mdata, variables\u001b[39m=\u001b[39;49mvariables)\n\u001b[1;32m    392\u001b[0m     \u001b[39mself\u001b[39m\u001b[39m.\u001b[39mlegend \u001b[39m=\u001b[39m legend\n",
      "File \u001b[0;32m~/miniconda3/lib/python3.11/site-packages/seaborn/_base.py:634\u001b[0m, in \u001b[0;36mVectorPlotter.__init__\u001b[0;34m(self, data, variables)\u001b[0m\n\u001b[1;32m    629\u001b[0m \u001b[39m# var_ordered is relevant only for categorical axis variables, and may\u001b[39;00m\n\u001b[1;32m    630\u001b[0m \u001b[39m# be better handled by an internal axis information object that tracks\u001b[39;00m\n\u001b[1;32m    631\u001b[0m \u001b[39m# such information and is set up by the scale_* methods. The analogous\u001b[39;00m\n\u001b[1;32m    632\u001b[0m \u001b[39m# information for numeric axes would be information about log scales.\u001b[39;00m\n\u001b[1;32m    633\u001b[0m \u001b[39mself\u001b[39m\u001b[39m.\u001b[39m_var_ordered \u001b[39m=\u001b[39m {\u001b[39m\"\u001b[39m\u001b[39mx\u001b[39m\u001b[39m\"\u001b[39m: \u001b[39mFalse\u001b[39;00m, \u001b[39m\"\u001b[39m\u001b[39my\u001b[39m\u001b[39m\"\u001b[39m: \u001b[39mFalse\u001b[39;00m}  \u001b[39m# alt., used DefaultDict\u001b[39;00m\n\u001b[0;32m--> 634\u001b[0m \u001b[39mself\u001b[39;49m\u001b[39m.\u001b[39;49massign_variables(data, variables)\n\u001b[1;32m    636\u001b[0m \u001b[39m# TODO Lots of tests assume that these are called to initialize the\u001b[39;00m\n\u001b[1;32m    637\u001b[0m \u001b[39m# mappings to default values on class initialization. I'd prefer to\u001b[39;00m\n\u001b[1;32m    638\u001b[0m \u001b[39m# move away from that and only have a mapping when explicitly called.\u001b[39;00m\n\u001b[1;32m    639\u001b[0m \u001b[39mfor\u001b[39;00m var \u001b[39min\u001b[39;00m [\u001b[39m\"\u001b[39m\u001b[39mhue\u001b[39m\u001b[39m\"\u001b[39m, \u001b[39m\"\u001b[39m\u001b[39msize\u001b[39m\u001b[39m\"\u001b[39m, \u001b[39m\"\u001b[39m\u001b[39mstyle\u001b[39m\u001b[39m\"\u001b[39m]:\n",
      "File \u001b[0;32m~/miniconda3/lib/python3.11/site-packages/seaborn/_base.py:685\u001b[0m, in \u001b[0;36mVectorPlotter.assign_variables\u001b[0;34m(self, data, variables)\u001b[0m\n\u001b[1;32m    683\u001b[0m \u001b[39mself\u001b[39m\u001b[39m.\u001b[39mplot_data \u001b[39m=\u001b[39m frame\n\u001b[1;32m    684\u001b[0m \u001b[39mself\u001b[39m\u001b[39m.\u001b[39mvariables \u001b[39m=\u001b[39m names\n\u001b[0;32m--> 685\u001b[0m \u001b[39mself\u001b[39m\u001b[39m.\u001b[39mvar_types \u001b[39m=\u001b[39m {\n\u001b[1;32m    686\u001b[0m     v: variable_type(\n\u001b[1;32m    687\u001b[0m         frame[v],\n\u001b[1;32m    688\u001b[0m         boolean_type\u001b[39m=\u001b[39;49m\u001b[39m\"\u001b[39;49m\u001b[39mnumeric\u001b[39;49m\u001b[39m\"\u001b[39;49m \u001b[39mif\u001b[39;49;00m v \u001b[39min\u001b[39;49;00m \u001b[39m\"\u001b[39;49m\u001b[39mxy\u001b[39;49m\u001b[39m\"\u001b[39;49m \u001b[39melse\u001b[39;49;00m \u001b[39m\"\u001b[39;49m\u001b[39mcategorical\u001b[39;49m\u001b[39m\"\u001b[39;49m\n\u001b[1;32m    689\u001b[0m     )\n\u001b[1;32m    690\u001b[0m     \u001b[39mfor\u001b[39;49;00m v \u001b[39min\u001b[39;49;00m names\n\u001b[1;32m    691\u001b[0m }\n\u001b[1;32m    693\u001b[0m \u001b[39mreturn\u001b[39;00m \u001b[39mself\u001b[39m\n",
      "File \u001b[0;32m~/miniconda3/lib/python3.11/site-packages/seaborn/_base.py:686\u001b[0m, in \u001b[0;36m<dictcomp>\u001b[0;34m(.0)\u001b[0m\n\u001b[1;32m    683\u001b[0m \u001b[39mself\u001b[39m\u001b[39m.\u001b[39mplot_data \u001b[39m=\u001b[39m frame\n\u001b[1;32m    684\u001b[0m \u001b[39mself\u001b[39m\u001b[39m.\u001b[39mvariables \u001b[39m=\u001b[39m names\n\u001b[1;32m    685\u001b[0m \u001b[39mself\u001b[39m\u001b[39m.\u001b[39mvar_types \u001b[39m=\u001b[39m {\n\u001b[0;32m--> 686\u001b[0m     v: variable_type(\n\u001b[1;32m    687\u001b[0m         frame[v],\n\u001b[1;32m    688\u001b[0m         boolean_type\u001b[39m=\u001b[39;49m\u001b[39m\"\u001b[39;49m\u001b[39mnumeric\u001b[39;49m\u001b[39m\"\u001b[39;49m \u001b[39mif\u001b[39;49;00m v \u001b[39min\u001b[39;49;00m \u001b[39m\"\u001b[39;49m\u001b[39mxy\u001b[39;49m\u001b[39m\"\u001b[39;49m \u001b[39melse\u001b[39;49;00m \u001b[39m\"\u001b[39;49m\u001b[39mcategorical\u001b[39;49m\u001b[39m\"\u001b[39;49m\n\u001b[1;32m    689\u001b[0m     )\n\u001b[1;32m    690\u001b[0m     \u001b[39mfor\u001b[39;00m v \u001b[39min\u001b[39;00m names\n\u001b[1;32m    691\u001b[0m }\n\u001b[1;32m    693\u001b[0m \u001b[39mreturn\u001b[39;00m \u001b[39mself\u001b[39m\n",
      "File \u001b[0;32m~/miniconda3/lib/python3.11/site-packages/seaborn/_base.py:1523\u001b[0m, in \u001b[0;36mvariable_type\u001b[0;34m(vector, boolean_type)\u001b[0m\n\u001b[1;32m   1519\u001b[0m \u001b[39mwith\u001b[39;00m warnings\u001b[39m.\u001b[39mcatch_warnings():\n\u001b[1;32m   1520\u001b[0m     warnings\u001b[39m.\u001b[39msimplefilter(\n\u001b[1;32m   1521\u001b[0m         action\u001b[39m=\u001b[39m\u001b[39m'\u001b[39m\u001b[39mignore\u001b[39m\u001b[39m'\u001b[39m, category\u001b[39m=\u001b[39m(\u001b[39mFutureWarning\u001b[39;00m, \u001b[39mDeprecationWarning\u001b[39;00m)\n\u001b[1;32m   1522\u001b[0m     )\n\u001b[0;32m-> 1523\u001b[0m     \u001b[39mif\u001b[39;00m np\u001b[39m.\u001b[39;49misin(vector, [\u001b[39m0\u001b[39;49m, \u001b[39m1\u001b[39;49m])\u001b[39m.\u001b[39mall():\n\u001b[1;32m   1524\u001b[0m         \u001b[39mreturn\u001b[39;00m VariableType(boolean_type)\n\u001b[1;32m   1526\u001b[0m \u001b[39m# Defer to positive pandas tests\u001b[39;00m\n",
      "File \u001b[0;32m~/miniconda3/lib/python3.11/site-packages/numpy/lib/arraysetops.py:890\u001b[0m, in \u001b[0;36misin\u001b[0;34m(element, test_elements, assume_unique, invert, kind)\u001b[0m\n\u001b[1;32m    769\u001b[0m \u001b[39m\u001b[39m\u001b[39m\"\"\"\u001b[39;00m\n\u001b[1;32m    770\u001b[0m \u001b[39mCalculates ``element in test_elements``, broadcasting over `element` only.\u001b[39;00m\n\u001b[1;32m    771\u001b[0m \u001b[39mReturns a boolean array of the same shape as `element` that is True\u001b[39;00m\n\u001b[0;32m   (...)\u001b[0m\n\u001b[1;32m    887\u001b[0m \u001b[39m       [ True, False]])\u001b[39;00m\n\u001b[1;32m    888\u001b[0m \u001b[39m\"\"\"\u001b[39;00m\n\u001b[1;32m    889\u001b[0m element \u001b[39m=\u001b[39m np\u001b[39m.\u001b[39masarray(element)\n\u001b[0;32m--> 890\u001b[0m \u001b[39mreturn\u001b[39;00m in1d(element, test_elements, assume_unique\u001b[39m=\u001b[39;49massume_unique,\n\u001b[1;32m    891\u001b[0m             invert\u001b[39m=\u001b[39;49minvert, kind\u001b[39m=\u001b[39;49mkind)\u001b[39m.\u001b[39mreshape(element\u001b[39m.\u001b[39mshape)\n",
      "File \u001b[0;32m~/miniconda3/lib/python3.11/site-packages/numpy/lib/arraysetops.py:733\u001b[0m, in \u001b[0;36min1d\u001b[0;34m(ar1, ar2, assume_unique, invert, kind)\u001b[0m\n\u001b[1;32m    731\u001b[0m         mask \u001b[39m=\u001b[39m np\u001b[39m.\u001b[39mzeros(\u001b[39mlen\u001b[39m(ar1), dtype\u001b[39m=\u001b[39m\u001b[39mbool\u001b[39m)\n\u001b[1;32m    732\u001b[0m         \u001b[39mfor\u001b[39;00m a \u001b[39min\u001b[39;00m ar2:\n\u001b[0;32m--> 733\u001b[0m             mask \u001b[39m|\u001b[39m\u001b[39m=\u001b[39m (ar1 \u001b[39m==\u001b[39;49m a)\n\u001b[1;32m    734\u001b[0m     \u001b[39mreturn\u001b[39;00m mask\n\u001b[1;32m    736\u001b[0m \u001b[39m# Otherwise use sorting\u001b[39;00m\n",
      "\u001b[0;31mValueError\u001b[0m: The truth value of an array with more than one element is ambiguous. Use a.any() or a.all()"
     ]
    }
   ],
   "source": [
    "print(data)\n",
    "# data = data.detach().cpu().numpy()\n",
    "x_new, y_new = unpack_1d_data(data)\n",
    "\n",
    "import seaborn as sns\n",
    "sns.scatterplot(x=x_new,y=y_new)"
   ]
  },
  {
   "cell_type": "markdown",
   "metadata": {},
   "source": [
    "### Create an AWESOME HD 24fps GIF"
   ]
  },
  {
   "cell_type": "code",
   "execution_count": 63,
   "metadata": {},
   "outputs": [
    {
     "name": "stderr",
     "output_type": "stream",
     "text": [
      "/var/folders/48/vt8rvxh55dx8lnxl2c0nn5dm0000gn/T/ipykernel_55726/1926754812.py:16: UserWarning: Ignoring `palette` because no `hue` variable has been assigned.\n",
      "  graph = sns.scatterplot(x=x_new,y=y_new,palette=['green'])\n",
      "/var/folders/48/vt8rvxh55dx8lnxl2c0nn5dm0000gn/T/ipykernel_55726/1926754812.py:16: UserWarning: Ignoring `palette` because no `hue` variable has been assigned.\n",
      "  graph = sns.scatterplot(x=x_new,y=y_new,palette=['green'])\n",
      "/var/folders/48/vt8rvxh55dx8lnxl2c0nn5dm0000gn/T/ipykernel_55726/1926754812.py:16: UserWarning: Ignoring `palette` because no `hue` variable has been assigned.\n",
      "  graph = sns.scatterplot(x=x_new,y=y_new,palette=['green'])\n",
      "/var/folders/48/vt8rvxh55dx8lnxl2c0nn5dm0000gn/T/ipykernel_55726/1926754812.py:16: UserWarning: Ignoring `palette` because no `hue` variable has been assigned.\n",
      "  graph = sns.scatterplot(x=x_new,y=y_new,palette=['green'])\n",
      "/var/folders/48/vt8rvxh55dx8lnxl2c0nn5dm0000gn/T/ipykernel_55726/1926754812.py:16: UserWarning: Ignoring `palette` because no `hue` variable has been assigned.\n",
      "  graph = sns.scatterplot(x=x_new,y=y_new,palette=['green'])\n",
      "/var/folders/48/vt8rvxh55dx8lnxl2c0nn5dm0000gn/T/ipykernel_55726/1926754812.py:16: UserWarning: Ignoring `palette` because no `hue` variable has been assigned.\n",
      "  graph = sns.scatterplot(x=x_new,y=y_new,palette=['green'])\n",
      "/var/folders/48/vt8rvxh55dx8lnxl2c0nn5dm0000gn/T/ipykernel_55726/1926754812.py:16: UserWarning: Ignoring `palette` because no `hue` variable has been assigned.\n",
      "  graph = sns.scatterplot(x=x_new,y=y_new,palette=['green'])\n",
      "/var/folders/48/vt8rvxh55dx8lnxl2c0nn5dm0000gn/T/ipykernel_55726/1926754812.py:16: UserWarning: Ignoring `palette` because no `hue` variable has been assigned.\n",
      "  graph = sns.scatterplot(x=x_new,y=y_new,palette=['green'])\n",
      "/var/folders/48/vt8rvxh55dx8lnxl2c0nn5dm0000gn/T/ipykernel_55726/1926754812.py:16: UserWarning: Ignoring `palette` because no `hue` variable has been assigned.\n",
      "  graph = sns.scatterplot(x=x_new,y=y_new,palette=['green'])\n",
      "/var/folders/48/vt8rvxh55dx8lnxl2c0nn5dm0000gn/T/ipykernel_55726/1926754812.py:16: UserWarning: Ignoring `palette` because no `hue` variable has been assigned.\n",
      "  graph = sns.scatterplot(x=x_new,y=y_new,palette=['green'])\n",
      "/var/folders/48/vt8rvxh55dx8lnxl2c0nn5dm0000gn/T/ipykernel_55726/1926754812.py:16: UserWarning: Ignoring `palette` because no `hue` variable has been assigned.\n",
      "  graph = sns.scatterplot(x=x_new,y=y_new,palette=['green'])\n",
      "/var/folders/48/vt8rvxh55dx8lnxl2c0nn5dm0000gn/T/ipykernel_55726/1926754812.py:16: UserWarning: Ignoring `palette` because no `hue` variable has been assigned.\n",
      "  graph = sns.scatterplot(x=x_new,y=y_new,palette=['green'])\n",
      "/var/folders/48/vt8rvxh55dx8lnxl2c0nn5dm0000gn/T/ipykernel_55726/1926754812.py:16: UserWarning: Ignoring `palette` because no `hue` variable has been assigned.\n",
      "  graph = sns.scatterplot(x=x_new,y=y_new,palette=['green'])\n",
      "/var/folders/48/vt8rvxh55dx8lnxl2c0nn5dm0000gn/T/ipykernel_55726/1926754812.py:16: UserWarning: Ignoring `palette` because no `hue` variable has been assigned.\n",
      "  graph = sns.scatterplot(x=x_new,y=y_new,palette=['green'])\n",
      "/var/folders/48/vt8rvxh55dx8lnxl2c0nn5dm0000gn/T/ipykernel_55726/1926754812.py:16: UserWarning: Ignoring `palette` because no `hue` variable has been assigned.\n",
      "  graph = sns.scatterplot(x=x_new,y=y_new,palette=['green'])\n",
      "/var/folders/48/vt8rvxh55dx8lnxl2c0nn5dm0000gn/T/ipykernel_55726/1926754812.py:16: UserWarning: Ignoring `palette` because no `hue` variable has been assigned.\n",
      "  graph = sns.scatterplot(x=x_new,y=y_new,palette=['green'])\n",
      "/var/folders/48/vt8rvxh55dx8lnxl2c0nn5dm0000gn/T/ipykernel_55726/1926754812.py:16: UserWarning: Ignoring `palette` because no `hue` variable has been assigned.\n",
      "  graph = sns.scatterplot(x=x_new,y=y_new,palette=['green'])\n",
      "/var/folders/48/vt8rvxh55dx8lnxl2c0nn5dm0000gn/T/ipykernel_55726/1926754812.py:16: UserWarning: Ignoring `palette` because no `hue` variable has been assigned.\n",
      "  graph = sns.scatterplot(x=x_new,y=y_new,palette=['green'])\n",
      "/var/folders/48/vt8rvxh55dx8lnxl2c0nn5dm0000gn/T/ipykernel_55726/1926754812.py:16: UserWarning: Ignoring `palette` because no `hue` variable has been assigned.\n",
      "  graph = sns.scatterplot(x=x_new,y=y_new,palette=['green'])\n",
      "/var/folders/48/vt8rvxh55dx8lnxl2c0nn5dm0000gn/T/ipykernel_55726/1926754812.py:16: UserWarning: Ignoring `palette` because no `hue` variable has been assigned.\n",
      "  graph = sns.scatterplot(x=x_new,y=y_new,palette=['green'])\n",
      "/var/folders/48/vt8rvxh55dx8lnxl2c0nn5dm0000gn/T/ipykernel_55726/1926754812.py:16: UserWarning: Ignoring `palette` because no `hue` variable has been assigned.\n",
      "  graph = sns.scatterplot(x=x_new,y=y_new,palette=['green'])\n",
      "/var/folders/48/vt8rvxh55dx8lnxl2c0nn5dm0000gn/T/ipykernel_55726/1926754812.py:16: UserWarning: Ignoring `palette` because no `hue` variable has been assigned.\n",
      "  graph = sns.scatterplot(x=x_new,y=y_new,palette=['green'])\n",
      "/var/folders/48/vt8rvxh55dx8lnxl2c0nn5dm0000gn/T/ipykernel_55726/1926754812.py:16: UserWarning: Ignoring `palette` because no `hue` variable has been assigned.\n",
      "  graph = sns.scatterplot(x=x_new,y=y_new,palette=['green'])\n",
      "/var/folders/48/vt8rvxh55dx8lnxl2c0nn5dm0000gn/T/ipykernel_55726/1926754812.py:16: UserWarning: Ignoring `palette` because no `hue` variable has been assigned.\n",
      "  graph = sns.scatterplot(x=x_new,y=y_new,palette=['green'])\n",
      "/var/folders/48/vt8rvxh55dx8lnxl2c0nn5dm0000gn/T/ipykernel_55726/1926754812.py:16: UserWarning: Ignoring `palette` because no `hue` variable has been assigned.\n",
      "  graph = sns.scatterplot(x=x_new,y=y_new,palette=['green'])\n",
      "/var/folders/48/vt8rvxh55dx8lnxl2c0nn5dm0000gn/T/ipykernel_55726/1926754812.py:16: UserWarning: Ignoring `palette` because no `hue` variable has been assigned.\n",
      "  graph = sns.scatterplot(x=x_new,y=y_new,palette=['green'])\n",
      "/var/folders/48/vt8rvxh55dx8lnxl2c0nn5dm0000gn/T/ipykernel_55726/1926754812.py:16: UserWarning: Ignoring `palette` because no `hue` variable has been assigned.\n",
      "  graph = sns.scatterplot(x=x_new,y=y_new,palette=['green'])\n",
      "/var/folders/48/vt8rvxh55dx8lnxl2c0nn5dm0000gn/T/ipykernel_55726/1926754812.py:16: UserWarning: Ignoring `palette` because no `hue` variable has been assigned.\n",
      "  graph = sns.scatterplot(x=x_new,y=y_new,palette=['green'])\n",
      "/var/folders/48/vt8rvxh55dx8lnxl2c0nn5dm0000gn/T/ipykernel_55726/1926754812.py:16: UserWarning: Ignoring `palette` because no `hue` variable has been assigned.\n",
      "  graph = sns.scatterplot(x=x_new,y=y_new,palette=['green'])\n",
      "/var/folders/48/vt8rvxh55dx8lnxl2c0nn5dm0000gn/T/ipykernel_55726/1926754812.py:16: UserWarning: Ignoring `palette` because no `hue` variable has been assigned.\n",
      "  graph = sns.scatterplot(x=x_new,y=y_new,palette=['green'])\n",
      "/var/folders/48/vt8rvxh55dx8lnxl2c0nn5dm0000gn/T/ipykernel_55726/1926754812.py:16: UserWarning: Ignoring `palette` because no `hue` variable has been assigned.\n",
      "  graph = sns.scatterplot(x=x_new,y=y_new,palette=['green'])\n",
      "/var/folders/48/vt8rvxh55dx8lnxl2c0nn5dm0000gn/T/ipykernel_55726/1926754812.py:16: UserWarning: Ignoring `palette` because no `hue` variable has been assigned.\n",
      "  graph = sns.scatterplot(x=x_new,y=y_new,palette=['green'])\n",
      "/var/folders/48/vt8rvxh55dx8lnxl2c0nn5dm0000gn/T/ipykernel_55726/1926754812.py:16: UserWarning: Ignoring `palette` because no `hue` variable has been assigned.\n",
      "  graph = sns.scatterplot(x=x_new,y=y_new,palette=['green'])\n",
      "/var/folders/48/vt8rvxh55dx8lnxl2c0nn5dm0000gn/T/ipykernel_55726/1926754812.py:16: UserWarning: Ignoring `palette` because no `hue` variable has been assigned.\n",
      "  graph = sns.scatterplot(x=x_new,y=y_new,palette=['green'])\n",
      "/var/folders/48/vt8rvxh55dx8lnxl2c0nn5dm0000gn/T/ipykernel_55726/1926754812.py:16: UserWarning: Ignoring `palette` because no `hue` variable has been assigned.\n",
      "  graph = sns.scatterplot(x=x_new,y=y_new,palette=['green'])\n",
      "/var/folders/48/vt8rvxh55dx8lnxl2c0nn5dm0000gn/T/ipykernel_55726/1926754812.py:16: UserWarning: Ignoring `palette` because no `hue` variable has been assigned.\n",
      "  graph = sns.scatterplot(x=x_new,y=y_new,palette=['green'])\n",
      "/var/folders/48/vt8rvxh55dx8lnxl2c0nn5dm0000gn/T/ipykernel_55726/1926754812.py:16: UserWarning: Ignoring `palette` because no `hue` variable has been assigned.\n",
      "  graph = sns.scatterplot(x=x_new,y=y_new,palette=['green'])\n",
      "/var/folders/48/vt8rvxh55dx8lnxl2c0nn5dm0000gn/T/ipykernel_55726/1926754812.py:16: UserWarning: Ignoring `palette` because no `hue` variable has been assigned.\n",
      "  graph = sns.scatterplot(x=x_new,y=y_new,palette=['green'])\n",
      "/var/folders/48/vt8rvxh55dx8lnxl2c0nn5dm0000gn/T/ipykernel_55726/1926754812.py:16: UserWarning: Ignoring `palette` because no `hue` variable has been assigned.\n",
      "  graph = sns.scatterplot(x=x_new,y=y_new,palette=['green'])\n",
      "/var/folders/48/vt8rvxh55dx8lnxl2c0nn5dm0000gn/T/ipykernel_55726/1926754812.py:16: UserWarning: Ignoring `palette` because no `hue` variable has been assigned.\n",
      "  graph = sns.scatterplot(x=x_new,y=y_new,palette=['green'])\n",
      "/var/folders/48/vt8rvxh55dx8lnxl2c0nn5dm0000gn/T/ipykernel_55726/1926754812.py:16: UserWarning: Ignoring `palette` because no `hue` variable has been assigned.\n",
      "  graph = sns.scatterplot(x=x_new,y=y_new,palette=['green'])\n",
      "/var/folders/48/vt8rvxh55dx8lnxl2c0nn5dm0000gn/T/ipykernel_55726/1926754812.py:16: UserWarning: Ignoring `palette` because no `hue` variable has been assigned.\n",
      "  graph = sns.scatterplot(x=x_new,y=y_new,palette=['green'])\n",
      "/var/folders/48/vt8rvxh55dx8lnxl2c0nn5dm0000gn/T/ipykernel_55726/1926754812.py:16: UserWarning: Ignoring `palette` because no `hue` variable has been assigned.\n",
      "  graph = sns.scatterplot(x=x_new,y=y_new,palette=['green'])\n",
      "/var/folders/48/vt8rvxh55dx8lnxl2c0nn5dm0000gn/T/ipykernel_55726/1926754812.py:16: UserWarning: Ignoring `palette` because no `hue` variable has been assigned.\n",
      "  graph = sns.scatterplot(x=x_new,y=y_new,palette=['green'])\n",
      "/var/folders/48/vt8rvxh55dx8lnxl2c0nn5dm0000gn/T/ipykernel_55726/1926754812.py:16: UserWarning: Ignoring `palette` because no `hue` variable has been assigned.\n",
      "  graph = sns.scatterplot(x=x_new,y=y_new,palette=['green'])\n",
      "/var/folders/48/vt8rvxh55dx8lnxl2c0nn5dm0000gn/T/ipykernel_55726/1926754812.py:16: UserWarning: Ignoring `palette` because no `hue` variable has been assigned.\n",
      "  graph = sns.scatterplot(x=x_new,y=y_new,palette=['green'])\n",
      "/var/folders/48/vt8rvxh55dx8lnxl2c0nn5dm0000gn/T/ipykernel_55726/1926754812.py:16: UserWarning: Ignoring `palette` because no `hue` variable has been assigned.\n",
      "  graph = sns.scatterplot(x=x_new,y=y_new,palette=['green'])\n",
      "/var/folders/48/vt8rvxh55dx8lnxl2c0nn5dm0000gn/T/ipykernel_55726/1926754812.py:16: UserWarning: Ignoring `palette` because no `hue` variable has been assigned.\n",
      "  graph = sns.scatterplot(x=x_new,y=y_new,palette=['green'])\n",
      "/var/folders/48/vt8rvxh55dx8lnxl2c0nn5dm0000gn/T/ipykernel_55726/1926754812.py:16: UserWarning: Ignoring `palette` because no `hue` variable has been assigned.\n",
      "  graph = sns.scatterplot(x=x_new,y=y_new,palette=['green'])\n",
      "/var/folders/48/vt8rvxh55dx8lnxl2c0nn5dm0000gn/T/ipykernel_55726/1926754812.py:16: UserWarning: Ignoring `palette` because no `hue` variable has been assigned.\n",
      "  graph = sns.scatterplot(x=x_new,y=y_new,palette=['green'])\n",
      "/var/folders/48/vt8rvxh55dx8lnxl2c0nn5dm0000gn/T/ipykernel_55726/1926754812.py:16: UserWarning: Ignoring `palette` because no `hue` variable has been assigned.\n",
      "  graph = sns.scatterplot(x=x_new,y=y_new,palette=['green'])\n",
      "/var/folders/48/vt8rvxh55dx8lnxl2c0nn5dm0000gn/T/ipykernel_55726/1926754812.py:16: UserWarning: Ignoring `palette` because no `hue` variable has been assigned.\n",
      "  graph = sns.scatterplot(x=x_new,y=y_new,palette=['green'])\n",
      "/var/folders/48/vt8rvxh55dx8lnxl2c0nn5dm0000gn/T/ipykernel_55726/1926754812.py:16: UserWarning: Ignoring `palette` because no `hue` variable has been assigned.\n",
      "  graph = sns.scatterplot(x=x_new,y=y_new,palette=['green'])\n",
      "/var/folders/48/vt8rvxh55dx8lnxl2c0nn5dm0000gn/T/ipykernel_55726/1926754812.py:16: UserWarning: Ignoring `palette` because no `hue` variable has been assigned.\n",
      "  graph = sns.scatterplot(x=x_new,y=y_new,palette=['green'])\n",
      "/var/folders/48/vt8rvxh55dx8lnxl2c0nn5dm0000gn/T/ipykernel_55726/1926754812.py:16: UserWarning: Ignoring `palette` because no `hue` variable has been assigned.\n",
      "  graph = sns.scatterplot(x=x_new,y=y_new,palette=['green'])\n",
      "/var/folders/48/vt8rvxh55dx8lnxl2c0nn5dm0000gn/T/ipykernel_55726/1926754812.py:16: UserWarning: Ignoring `palette` because no `hue` variable has been assigned.\n",
      "  graph = sns.scatterplot(x=x_new,y=y_new,palette=['green'])\n",
      "/var/folders/48/vt8rvxh55dx8lnxl2c0nn5dm0000gn/T/ipykernel_55726/1926754812.py:16: UserWarning: Ignoring `palette` because no `hue` variable has been assigned.\n",
      "  graph = sns.scatterplot(x=x_new,y=y_new,palette=['green'])\n",
      "/var/folders/48/vt8rvxh55dx8lnxl2c0nn5dm0000gn/T/ipykernel_55726/1926754812.py:16: UserWarning: Ignoring `palette` because no `hue` variable has been assigned.\n",
      "  graph = sns.scatterplot(x=x_new,y=y_new,palette=['green'])\n",
      "/var/folders/48/vt8rvxh55dx8lnxl2c0nn5dm0000gn/T/ipykernel_55726/1926754812.py:16: UserWarning: Ignoring `palette` because no `hue` variable has been assigned.\n",
      "  graph = sns.scatterplot(x=x_new,y=y_new,palette=['green'])\n",
      "/var/folders/48/vt8rvxh55dx8lnxl2c0nn5dm0000gn/T/ipykernel_55726/1926754812.py:16: UserWarning: Ignoring `palette` because no `hue` variable has been assigned.\n",
      "  graph = sns.scatterplot(x=x_new,y=y_new,palette=['green'])\n",
      "/var/folders/48/vt8rvxh55dx8lnxl2c0nn5dm0000gn/T/ipykernel_55726/1926754812.py:16: UserWarning: Ignoring `palette` because no `hue` variable has been assigned.\n",
      "  graph = sns.scatterplot(x=x_new,y=y_new,palette=['green'])\n",
      "/var/folders/48/vt8rvxh55dx8lnxl2c0nn5dm0000gn/T/ipykernel_55726/1926754812.py:16: UserWarning: Ignoring `palette` because no `hue` variable has been assigned.\n",
      "  graph = sns.scatterplot(x=x_new,y=y_new,palette=['green'])\n",
      "/var/folders/48/vt8rvxh55dx8lnxl2c0nn5dm0000gn/T/ipykernel_55726/1926754812.py:16: UserWarning: Ignoring `palette` because no `hue` variable has been assigned.\n",
      "  graph = sns.scatterplot(x=x_new,y=y_new,palette=['green'])\n",
      "/var/folders/48/vt8rvxh55dx8lnxl2c0nn5dm0000gn/T/ipykernel_55726/1926754812.py:16: UserWarning: Ignoring `palette` because no `hue` variable has been assigned.\n",
      "  graph = sns.scatterplot(x=x_new,y=y_new,palette=['green'])\n",
      "/var/folders/48/vt8rvxh55dx8lnxl2c0nn5dm0000gn/T/ipykernel_55726/1926754812.py:16: UserWarning: Ignoring `palette` because no `hue` variable has been assigned.\n",
      "  graph = sns.scatterplot(x=x_new,y=y_new,palette=['green'])\n",
      "/var/folders/48/vt8rvxh55dx8lnxl2c0nn5dm0000gn/T/ipykernel_55726/1926754812.py:16: UserWarning: Ignoring `palette` because no `hue` variable has been assigned.\n",
      "  graph = sns.scatterplot(x=x_new,y=y_new,palette=['green'])\n",
      "/var/folders/48/vt8rvxh55dx8lnxl2c0nn5dm0000gn/T/ipykernel_55726/1926754812.py:16: UserWarning: Ignoring `palette` because no `hue` variable has been assigned.\n",
      "  graph = sns.scatterplot(x=x_new,y=y_new,palette=['green'])\n",
      "/var/folders/48/vt8rvxh55dx8lnxl2c0nn5dm0000gn/T/ipykernel_55726/1926754812.py:16: UserWarning: Ignoring `palette` because no `hue` variable has been assigned.\n",
      "  graph = sns.scatterplot(x=x_new,y=y_new,palette=['green'])\n",
      "/var/folders/48/vt8rvxh55dx8lnxl2c0nn5dm0000gn/T/ipykernel_55726/1926754812.py:16: UserWarning: Ignoring `palette` because no `hue` variable has been assigned.\n",
      "  graph = sns.scatterplot(x=x_new,y=y_new,palette=['green'])\n",
      "/var/folders/48/vt8rvxh55dx8lnxl2c0nn5dm0000gn/T/ipykernel_55726/1926754812.py:16: UserWarning: Ignoring `palette` because no `hue` variable has been assigned.\n",
      "  graph = sns.scatterplot(x=x_new,y=y_new,palette=['green'])\n",
      "/var/folders/48/vt8rvxh55dx8lnxl2c0nn5dm0000gn/T/ipykernel_55726/1926754812.py:16: UserWarning: Ignoring `palette` because no `hue` variable has been assigned.\n",
      "  graph = sns.scatterplot(x=x_new,y=y_new,palette=['green'])\n",
      "/var/folders/48/vt8rvxh55dx8lnxl2c0nn5dm0000gn/T/ipykernel_55726/1926754812.py:16: UserWarning: Ignoring `palette` because no `hue` variable has been assigned.\n",
      "  graph = sns.scatterplot(x=x_new,y=y_new,palette=['green'])\n",
      "/var/folders/48/vt8rvxh55dx8lnxl2c0nn5dm0000gn/T/ipykernel_55726/1926754812.py:16: UserWarning: Ignoring `palette` because no `hue` variable has been assigned.\n",
      "  graph = sns.scatterplot(x=x_new,y=y_new,palette=['green'])\n",
      "/var/folders/48/vt8rvxh55dx8lnxl2c0nn5dm0000gn/T/ipykernel_55726/1926754812.py:16: UserWarning: Ignoring `palette` because no `hue` variable has been assigned.\n",
      "  graph = sns.scatterplot(x=x_new,y=y_new,palette=['green'])\n",
      "/var/folders/48/vt8rvxh55dx8lnxl2c0nn5dm0000gn/T/ipykernel_55726/1926754812.py:16: UserWarning: Ignoring `palette` because no `hue` variable has been assigned.\n",
      "  graph = sns.scatterplot(x=x_new,y=y_new,palette=['green'])\n",
      "/var/folders/48/vt8rvxh55dx8lnxl2c0nn5dm0000gn/T/ipykernel_55726/1926754812.py:16: UserWarning: Ignoring `palette` because no `hue` variable has been assigned.\n",
      "  graph = sns.scatterplot(x=x_new,y=y_new,palette=['green'])\n",
      "/var/folders/48/vt8rvxh55dx8lnxl2c0nn5dm0000gn/T/ipykernel_55726/1926754812.py:16: UserWarning: Ignoring `palette` because no `hue` variable has been assigned.\n",
      "  graph = sns.scatterplot(x=x_new,y=y_new,palette=['green'])\n",
      "/var/folders/48/vt8rvxh55dx8lnxl2c0nn5dm0000gn/T/ipykernel_55726/1926754812.py:16: UserWarning: Ignoring `palette` because no `hue` variable has been assigned.\n",
      "  graph = sns.scatterplot(x=x_new,y=y_new,palette=['green'])\n",
      "/var/folders/48/vt8rvxh55dx8lnxl2c0nn5dm0000gn/T/ipykernel_55726/1926754812.py:16: UserWarning: Ignoring `palette` because no `hue` variable has been assigned.\n",
      "  graph = sns.scatterplot(x=x_new,y=y_new,palette=['green'])\n",
      "/var/folders/48/vt8rvxh55dx8lnxl2c0nn5dm0000gn/T/ipykernel_55726/1926754812.py:16: UserWarning: Ignoring `palette` because no `hue` variable has been assigned.\n",
      "  graph = sns.scatterplot(x=x_new,y=y_new,palette=['green'])\n",
      "/var/folders/48/vt8rvxh55dx8lnxl2c0nn5dm0000gn/T/ipykernel_55726/1926754812.py:16: UserWarning: Ignoring `palette` because no `hue` variable has been assigned.\n",
      "  graph = sns.scatterplot(x=x_new,y=y_new,palette=['green'])\n",
      "/var/folders/48/vt8rvxh55dx8lnxl2c0nn5dm0000gn/T/ipykernel_55726/1926754812.py:16: UserWarning: Ignoring `palette` because no `hue` variable has been assigned.\n",
      "  graph = sns.scatterplot(x=x_new,y=y_new,palette=['green'])\n",
      "/var/folders/48/vt8rvxh55dx8lnxl2c0nn5dm0000gn/T/ipykernel_55726/1926754812.py:16: UserWarning: Ignoring `palette` because no `hue` variable has been assigned.\n",
      "  graph = sns.scatterplot(x=x_new,y=y_new,palette=['green'])\n",
      "/var/folders/48/vt8rvxh55dx8lnxl2c0nn5dm0000gn/T/ipykernel_55726/1926754812.py:16: UserWarning: Ignoring `palette` because no `hue` variable has been assigned.\n",
      "  graph = sns.scatterplot(x=x_new,y=y_new,palette=['green'])\n",
      "/var/folders/48/vt8rvxh55dx8lnxl2c0nn5dm0000gn/T/ipykernel_55726/1926754812.py:16: UserWarning: Ignoring `palette` because no `hue` variable has been assigned.\n",
      "  graph = sns.scatterplot(x=x_new,y=y_new,palette=['green'])\n",
      "/var/folders/48/vt8rvxh55dx8lnxl2c0nn5dm0000gn/T/ipykernel_55726/1926754812.py:16: UserWarning: Ignoring `palette` because no `hue` variable has been assigned.\n",
      "  graph = sns.scatterplot(x=x_new,y=y_new,palette=['green'])\n",
      "/var/folders/48/vt8rvxh55dx8lnxl2c0nn5dm0000gn/T/ipykernel_55726/1926754812.py:16: UserWarning: Ignoring `palette` because no `hue` variable has been assigned.\n",
      "  graph = sns.scatterplot(x=x_new,y=y_new,palette=['green'])\n",
      "/var/folders/48/vt8rvxh55dx8lnxl2c0nn5dm0000gn/T/ipykernel_55726/1926754812.py:16: UserWarning: Ignoring `palette` because no `hue` variable has been assigned.\n",
      "  graph = sns.scatterplot(x=x_new,y=y_new,palette=['green'])\n",
      "/var/folders/48/vt8rvxh55dx8lnxl2c0nn5dm0000gn/T/ipykernel_55726/1926754812.py:16: UserWarning: Ignoring `palette` because no `hue` variable has been assigned.\n",
      "  graph = sns.scatterplot(x=x_new,y=y_new,palette=['green'])\n",
      "/var/folders/48/vt8rvxh55dx8lnxl2c0nn5dm0000gn/T/ipykernel_55726/1926754812.py:16: UserWarning: Ignoring `palette` because no `hue` variable has been assigned.\n",
      "  graph = sns.scatterplot(x=x_new,y=y_new,palette=['green'])\n",
      "/var/folders/48/vt8rvxh55dx8lnxl2c0nn5dm0000gn/T/ipykernel_55726/1926754812.py:16: UserWarning: Ignoring `palette` because no `hue` variable has been assigned.\n",
      "  graph = sns.scatterplot(x=x_new,y=y_new,palette=['green'])\n",
      "/var/folders/48/vt8rvxh55dx8lnxl2c0nn5dm0000gn/T/ipykernel_55726/1926754812.py:16: UserWarning: Ignoring `palette` because no `hue` variable has been assigned.\n",
      "  graph = sns.scatterplot(x=x_new,y=y_new,palette=['green'])\n",
      "/var/folders/48/vt8rvxh55dx8lnxl2c0nn5dm0000gn/T/ipykernel_55726/1926754812.py:16: UserWarning: Ignoring `palette` because no `hue` variable has been assigned.\n",
      "  graph = sns.scatterplot(x=x_new,y=y_new,palette=['green'])\n",
      "/var/folders/48/vt8rvxh55dx8lnxl2c0nn5dm0000gn/T/ipykernel_55726/1926754812.py:16: UserWarning: Ignoring `palette` because no `hue` variable has been assigned.\n",
      "  graph = sns.scatterplot(x=x_new,y=y_new,palette=['green'])\n",
      "/var/folders/48/vt8rvxh55dx8lnxl2c0nn5dm0000gn/T/ipykernel_55726/1926754812.py:16: UserWarning: Ignoring `palette` because no `hue` variable has been assigned.\n",
      "  graph = sns.scatterplot(x=x_new,y=y_new,palette=['green'])\n",
      "/var/folders/48/vt8rvxh55dx8lnxl2c0nn5dm0000gn/T/ipykernel_55726/1926754812.py:16: UserWarning: Ignoring `palette` because no `hue` variable has been assigned.\n",
      "  graph = sns.scatterplot(x=x_new,y=y_new,palette=['green'])\n",
      "/var/folders/48/vt8rvxh55dx8lnxl2c0nn5dm0000gn/T/ipykernel_55726/1926754812.py:16: UserWarning: Ignoring `palette` because no `hue` variable has been assigned.\n",
      "  graph = sns.scatterplot(x=x_new,y=y_new,palette=['green'])\n",
      "/var/folders/48/vt8rvxh55dx8lnxl2c0nn5dm0000gn/T/ipykernel_55726/1926754812.py:16: UserWarning: Ignoring `palette` because no `hue` variable has been assigned.\n",
      "  graph = sns.scatterplot(x=x_new,y=y_new,palette=['green'])\n",
      "/var/folders/48/vt8rvxh55dx8lnxl2c0nn5dm0000gn/T/ipykernel_55726/1926754812.py:16: UserWarning: Ignoring `palette` because no `hue` variable has been assigned.\n",
      "  graph = sns.scatterplot(x=x_new,y=y_new,palette=['green'])\n",
      "MovieWriter ffmpeg unavailable; using Pillow instead.\n"
     ]
    },
    {
     "data": {
      "image/png": "[encoded data removed]",
      "text/plain": [
       "<Figure size 640x480 with 1 Axes>"
      ]
     },
     "metadata": {},
     "output_type": "display_data"
    }
   ],
   "source": [
    "import numpy as np\n",
    "from celluloid import Camera\n",
    "import pandas as pd\n",
    "import seaborn as sns\n",
    "import matplotlib.pyplot as plt\n",
    "import seaborn as sns\n",
    "\n",
    "fig = plt.figure()\n",
    "camera = Camera(fig)\n",
    "\n",
    "# animation draws one data point at a time\n",
    "for d in range(1, num_diffusion_timesteps):\n",
    "    data = denoise_with_mu(denoising_model,data,num_diffusion_timesteps-d, alphas, list_bar_alphas, DATA_SIZE, device)\n",
    "    data_plot = data.detach().cpu().numpy()\n",
    "    x_new, y_new = unpack_1d_data(data_plot)\n",
    "    graph = sns.scatterplot(x=x_new,y=y_new,palette=['green'])\n",
    "    graph.set_xlim(axes[0])\n",
    "    graph.set_ylim(axes[1])\n",
    "    camera.snap()\n",
    "\n",
    "anim = camera.animate(blit=False)\n",
    "anim.save('output.gif',fps=24, dpi=120)"
   ]
  },
  {
   "cell_type": "code",
   "execution_count": null,
   "metadata": {},
   "outputs": [],
   "source": []
  }
 ],
 "metadata": {
  "kernelspec": {
   "display_name": "Python 3 (ipykernel)",
   "language": "python",
   "name": "python3"
  },
  "language_info": {
   "codemirror_mode": {
    "name": "ipython",
    "version": 3
   },
   "file_extension": ".py",
   "mimetype": "text/x-python",
   "name": "python",
   "nbconvert_exporter": "python",
   "pygments_lexer": "ipython3",
   "version": "3.11.4"
  },
  "vscode": {
   "interpreter": {
    "hash": "31f2aee4e71d21fbe5cf8b01ff0e069b9275f58929596ceb00d14d90e3e16cd6"
   }
  }
 },
 "nbformat": 4,
 "nbformat_minor": 4
}
